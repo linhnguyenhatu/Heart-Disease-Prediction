{
  "cells": [
    {
      "cell_type": "code",
      "execution_count": 1,
      "metadata": {
        "id": "bJGLUbHTaMsf"
      },
      "outputs": [],
      "source": [
        "import torch\n",
        "import torch.nn as nn\n",
        "from sklearn import datasets\n",
        "from torch.utils.data import Dataset, DataLoader\n",
        "import numpy as np\n",
        "import matplotlib.pyplot as plt\n",
        "from sklearn.preprocessing import StandardScaler\n",
        "import pandas as pd"
      ]
    },
    {
      "cell_type": "code",
      "execution_count": 2,
      "metadata": {
        "id": "rCTMe4mRbyIO"
      },
      "outputs": [],
      "source": [
        "dataset = pd.read_csv('HeartDisease.csv')\n",
        "dataset = np.array(dataset)\n",
        "np.random.shuffle(dataset)\n",
        "dataset_train = dataset[: 46000, :]\n",
        "dataset_test = dataset[46000:, :]\n",
        "class HeartDataset(Dataset):\n",
        "  def __init__(self, indata):\n",
        "    dataset = indata\n",
        "    dataset = np.array(dataset)\n",
        "    self.x = dataset[:, 1:]\n",
        "    self.y = dataset[:, 0]\n",
        "    self.n_samples = self.x.shape[0]\n",
        "    self.n_feature = self.x.shape[1]\n",
        "\n",
        "  def __getitem__(self, index):\n",
        "    return self.x[index], self.y[index]\n",
        "\n",
        "  def __len__(self):\n",
        "    return self.n_samples"
      ]
    },
    {
      "cell_type": "code",
      "execution_count": 3,
      "metadata": {
        "colab": {
          "base_uri": "https://localhost:8080/"
        },
        "id": "OcW0GfmJb6rG",
        "outputId": "019d5c48-3ee7-41e0-f651-34ff3abcc741"
      },
      "outputs": [
        {
          "name": "stdout",
          "output_type": "stream",
          "text": [
            "tensor([[ 4.,  1.,  0.,  ..., 30., 16.,  4.],\n",
            "        [ 3.,  1.,  0.,  ..., 30., 30.,  8.],\n",
            "        [ 0.,  0.,  0.,  ...,  3.,  2., 30.],\n",
            "        ...,\n",
            "        [ 3.,  1.,  0.,  ..., 24., 12.,  1.],\n",
            "        [ 2.,  1.,  0.,  ..., 60.,  8.,  0.],\n",
            "        [ 2.,  1.,  0.,  ..., 30.,  0.,  1.]], dtype=torch.float64)\n"
          ]
        }
      ],
      "source": [
        "sc = StandardScaler()\n",
        "data_train = HeartDataset(dataset_train)\n",
        "X_test = torch.tensor(dataset_test[:, 1:], dtype = float)\n",
        "Y_test = torch.tensor(dataset_test[:, 0], dtype = float)\n",
        "print(X_test)\n",
        "dataloader = DataLoader(dataset=data_train, batch_size=32, shuffle=True)"
      ]
    },
    {
      "cell_type": "code",
      "execution_count": 9,
      "metadata": {
        "id": "80M-hG41ayHO"
      },
      "outputs": [],
      "source": [
        "class LogisticRegression(nn.Module):\n",
        "  def __init__(self, input_size, hidden_size, output_size):\n",
        "    super(LogisticRegression, self).__init__()\n",
        "    self.linear1 = nn.Linear(input_size, hidden_size)\n",
        "    self.relu = nn.ReLU()\n",
        "    self.linear2 = nn.Linear(hidden_size, output_size)\n",
        "    self.sigmoid = nn.Sigmoid()\n",
        "\n",
        "  def forward(self, x):\n",
        "    out = self.linear1(x.float())\n",
        "    out = self.linear2(out)\n",
        "    y_pred = self.sigmoid(out)\n",
        "    return y_pred\n"
      ]
    },
    {
      "cell_type": "code",
      "execution_count": 10,
      "metadata": {
        "colab": {
          "base_uri": "https://localhost:8080/"
        },
        "id": "qT9F1tIXbZ38",
        "outputId": "76be4a90-6875-46d1-9408-34a930a3cf5f"
      },
      "outputs": [
        {
          "name": "stdout",
          "output_type": "stream",
          "text": [
            "Epoch 0 Loss 0.335445601599335\n",
            "Epoch 1 Loss 0.30587362929639794\n",
            "Epoch 2 Loss 0.2943080664682731\n",
            "Epoch 3 Loss 0.2878744079386854\n",
            "Epoch 4 Loss 0.28414679906215723\n",
            "Epoch 5 Loss 0.2814736295712522\n",
            "Epoch 6 Loss 0.27939213180724665\n",
            "Epoch 7 Loss 0.2778643856402448\n",
            "Epoch 8 Loss 0.2767399167780163\n",
            "Epoch 9 Loss 0.27567896269176345\n",
            "Epoch 10 Loss 0.274888747699798\n",
            "Epoch 11 Loss 0.2740492192549285\n",
            "Epoch 12 Loss 0.2735199217430588\n",
            "Epoch 13 Loss 0.2729621518934551\n",
            "Epoch 14 Loss 0.2725854036160328\n",
            "Epoch 15 Loss 0.2721668275149108\n",
            "Epoch 16 Loss 0.2717869092245455\n",
            "Epoch 17 Loss 0.2714655748765649\n",
            "Epoch 18 Loss 0.2711218022133608\n",
            "Epoch 19 Loss 0.27091297738646547\n",
            "Epoch 20 Loss 0.27065773831770595\n",
            "Epoch 21 Loss 0.2703867822228795\n",
            "Epoch 22 Loss 0.2701550206216117\n",
            "Epoch 23 Loss 0.26998543930338204\n",
            "Epoch 24 Loss 0.2697611951151337\n",
            "Epoch 25 Loss 0.26959301039652855\n",
            "Epoch 26 Loss 0.26944337446340055\n",
            "Epoch 27 Loss 0.2692850016227453\n",
            "Epoch 28 Loss 0.2691737716453137\n",
            "Epoch 29 Loss 0.26902705785772196\n"
          ]
        }
      ],
      "source": [
        "n_feature = data_train.n_feature\n",
        "n_samples = data_train.n_samples\n",
        "model = LogisticRegression(n_feature, 6, 1)\n",
        "loss = nn.BCELoss()\n",
        "optimizer = torch.optim.Adam(model.parameters(), lr=0.005)\n",
        "epochs = 30\n",
        "overall_loss = 0\n",
        "count = 0\n",
        "lambda_reg = 0.01\n",
        "for epoch in range(epochs):\n",
        "  for input, label in dataloader:\n",
        "    y_pred = model(input)\n",
        "    label = label.reshape(-1, 1).float()\n",
        "    l = loss(y_pred, label)\n",
        "    l2_norm = sum(p.pow(2).sum() for p in model.parameters())\n",
        "    l += lambda_reg * l2_norm\n",
        "    overall_loss += l.item()\n",
        "    count += 1\n",
        "    l.backward()\n",
        "    optimizer.step()\n",
        "    optimizer.zero_grad()\n",
        "  print(f\"Epoch {epoch} Loss {overall_loss/count}\")\n"
      ]
    },
    {
      "cell_type": "code",
      "execution_count": 11,
      "metadata": {
        "colab": {
          "base_uri": "https://localhost:8080/"
        },
        "id": "BZRQGtpnf5TO",
        "outputId": "fca8b643-87e2-4966-9e85-ab40d112fd06"
      },
      "outputs": [
        {
          "name": "stdout",
          "output_type": "stream",
          "text": [
            "Model Accuracy 92%\n"
          ]
        }
      ],
      "source": [
        "#Model testing\n",
        "predictions = model(X_test).detach().numpy()\n",
        "predictions = predictions.reshape(-1).round()\n",
        "Y_train = Y_test.detach().numpy()\n",
        "result = predictions == Y_train\n",
        "print(f\"Model Accuracy {int(np.sum(result)/len(result)*100)}%\")"
      ]
    }
  ],
  "metadata": {
    "colab": {
      "provenance": []
    },
    "kernelspec": {
      "display_name": "Python 3",
      "name": "python3"
    },
    "language_info": {
      "codemirror_mode": {
        "name": "ipython",
        "version": 3
      },
      "file_extension": ".py",
      "mimetype": "text/x-python",
      "name": "python",
      "nbconvert_exporter": "python",
      "pygments_lexer": "ipython3",
      "version": "3.12.6"
    }
  },
  "nbformat": 4,
  "nbformat_minor": 0
}
