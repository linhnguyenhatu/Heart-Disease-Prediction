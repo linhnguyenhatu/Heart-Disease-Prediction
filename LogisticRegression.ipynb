{
  "cells": [
    {
      "cell_type": "code",
      "execution_count": 2,
      "metadata": {
        "id": "bJGLUbHTaMsf"
      },
      "outputs": [],
      "source": [
        "import torch\n",
        "import torch.nn as nn\n",
        "from sklearn import datasets\n",
        "from torch.utils.data import Dataset, DataLoader\n",
        "import numpy as np\n",
        "import matplotlib.pyplot as plt\n",
        "from sklearn.preprocessing import StandardScaler\n",
        "import pandas as pd"
      ]
    },
    {
      "cell_type": "code",
      "execution_count": 3,
      "metadata": {
        "id": "rCTMe4mRbyIO"
      },
      "outputs": [],
      "source": [
        "#Input data\n",
        "dataset = pd.read_csv('Dataset/HeartDisease.csv')\n",
        "dataset = np.array(dataset)\n",
        "np.random.shuffle(dataset)\n",
        "dataset_train = dataset[: 46000, :]\n",
        "dataset_valid = dataset[46000 : 51000, :]\n",
        "dataset_test = dataset[51000:, :]"
      ]
    },
    {
      "cell_type": "code",
      "execution_count": 4,
      "metadata": {},
      "outputs": [],
      "source": [
        "#Customize dataset\n",
        "class HeartDataset(Dataset):\n",
        "  def __init__(self, indata):\n",
        "    dataset = indata\n",
        "    dataset = np.array(dataset)\n",
        "    self.x = dataset[:, 1:]\n",
        "    self.y = dataset[:, 0]\n",
        "    self.n_samples = self.x.shape[0]\n",
        "    self.n_feature = self.x.shape[1]\n",
        "\n",
        "  def __getitem__(self, index):\n",
        "    return self.x[index], self.y[index]\n",
        "\n",
        "  def __len__(self):\n",
        "    return self.n_samples"
      ]
    },
    {
      "cell_type": "code",
      "execution_count": 5,
      "metadata": {
        "colab": {
          "base_uri": "https://localhost:8080/"
        },
        "id": "OcW0GfmJb6rG",
        "outputId": "019d5c48-3ee7-41e0-f651-34ff3abcc741"
      },
      "outputs": [],
      "source": [
        "#Data loading\n",
        "data_train = HeartDataset(dataset_train)\n",
        "data_valid = HeartDataset(dataset_valid)\n",
        "X_test = torch.tensor(dataset_test[:, 1:], dtype = float)\n",
        "Y_test = torch.tensor(dataset_test[:, 0], dtype = float)\n",
        "dataloader = DataLoader(dataset=data_train, batch_size=32, shuffle=True)\n",
        "validloader = DataLoader(dataset=data_valid, batch_size=32, shuffle=True)"
      ]
    },
    {
      "cell_type": "code",
      "execution_count": 6,
      "metadata": {
        "id": "80M-hG41ayHO"
      },
      "outputs": [],
      "source": [
        "#Build Logistic Regression model\n",
        "class LogisticRegression(nn.Module):\n",
        "  def __init__(self, input_size, hidden_size, output_size):\n",
        "    super(LogisticRegression, self).__init__()\n",
        "    self.linear1 = nn.Linear(input_size, output_size)\n",
        "    self.sigmoid = nn.Sigmoid()\n",
        "\n",
        "  def forward(self, x):\n",
        "    out = self.linear1(x.float())\n",
        "    y_pred = self.sigmoid(out)\n",
        "    return y_pred"
      ]
    },
    {
      "cell_type": "code",
      "execution_count": 10,
      "metadata": {
        "colab": {
          "base_uri": "https://localhost:8080/"
        },
        "id": "qT9F1tIXbZ38",
        "outputId": "76be4a90-6875-46d1-9408-34a930a3cf5f"
      },
      "outputs": [],
      "source": [
        "#Train and validate model\n",
        "n_feature = data_train.n_feature\n",
        "n_samples = data_train.n_samples\n",
        "model = LogisticRegression(n_feature, 6, 1)\n",
        "loss = nn.BCELoss()\n",
        "optimizer = torch.optim.Adam(model.parameters(), lr=0.005)\n",
        "min_valid_loss = np.inf\n",
        "epochs = 100\n",
        "try:\n",
        "    model.load_state_dict(torch.load('Saved Model/saved_model.pt'))\n",
        "except:\n",
        "    for epoch in range(epochs):\n",
        "        training_loss = 0\n",
        "        validating_loss = 0\n",
        "        for input, label in dataloader:\n",
        "            y_pred = model(input)\n",
        "            label = label.reshape(-1, 1).float()\n",
        "            l = loss(y_pred, label)\n",
        "            training_loss += l.item()\n",
        "            l.backward()\n",
        "            optimizer.step()\n",
        "            optimizer.zero_grad()\n",
        "        \n",
        "        for input, label in validloader:\n",
        "            y_pred = model(input)\n",
        "            label = label.reshape(-1, 1).float()\n",
        "            l = loss(y_pred, label)\n",
        "            validating_loss += l.item()\n",
        "        print(f'Epoch {epoch+1} \\t\\t Training Loss: {training_loss / len(dataloader)} \\t\\t Validation Loss: {validating_loss / len(validloader)}')\n",
        "        if min_valid_loss > validating_loss:\n",
        "            print(f'Validation Loss Decreased({min_valid_loss:.6f}--->{validating_loss:.6f}) \\t Saving The Model')\n",
        "            min_valid_loss = validating_loss\n",
        "            # Saving State Dict\n",
        "            torch.save(model.state_dict(), 'saved_model.pt')\n",
        "\n"
      ]
    },
    {
      "cell_type": "code",
      "execution_count": 11,
      "metadata": {
        "colab": {
          "base_uri": "https://localhost:8080/"
        },
        "id": "BZRQGtpnf5TO",
        "outputId": "fca8b643-87e2-4966-9e85-ab40d112fd06"
      },
      "outputs": [
        {
          "name": "stdout",
          "output_type": "stream",
          "text": [
            "Model Accuracy 92%\n"
          ]
        }
      ],
      "source": [
        "#Model Testing\n",
        "predictions = model(X_test).detach().numpy()\n",
        "predictions = predictions.reshape(-1).round()\n",
        "Y_train = Y_test.detach().numpy()\n",
        "result = predictions == Y_train\n",
        "print(f\"Model Accuracy {int(np.sum(result)/len(result)*100)}%\")"
      ]
    }
  ],
  "metadata": {
    "colab": {
      "provenance": []
    },
    "kernelspec": {
      "display_name": "Python 3",
      "name": "python3"
    },
    "language_info": {
      "codemirror_mode": {
        "name": "ipython",
        "version": 3
      },
      "file_extension": ".py",
      "mimetype": "text/x-python",
      "name": "python",
      "nbconvert_exporter": "python",
      "pygments_lexer": "ipython3",
      "version": "3.12.6"
    }
  },
  "nbformat": 4,
  "nbformat_minor": 0
}
